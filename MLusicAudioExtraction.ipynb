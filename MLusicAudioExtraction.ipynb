{
  "nbformat": 4,
  "nbformat_minor": 0,
  "metadata": {
    "colab": {
      "provenance": []
    },
    "kernelspec": {
      "name": "python3",
      "display_name": "Python 3"
    },
    "language_info": {
      "name": "python"
    }
  },
  "cells": [
    {
      "cell_type": "code",
      "source": [
        "import pandas as pd\n",
        "import librosa\n",
        "import numpy as np\n",
        "import matplotlib.cm as cm\n",
        "import matplotlib.pyplot as plt\n",
        "from sklearn.model_selection import train_test_split\n",
        "from sklearn.metrics import silhouette_samples, silhouette_score\n",
        "from sklearn.cluster import KMeans\n",
        "from sklearn.preprocessing import OneHotEncoder\n",
        "import os"
      ],
      "metadata": {
        "id": "8XmUFHf2V6O_"
      },
      "execution_count": null,
      "outputs": []
    },
    {
      "cell_type": "markdown",
      "source": [
        "# Extract features from audio"
      ],
      "metadata": {
        "id": "eZvfIlDgKU6E"
      }
    },
    {
      "cell_type": "code",
      "source": [
        "def interleave_arrays(arr1: np.ndarray, arr2: np.ndarray) -> np.ndarray:\n",
        "    interleaved = np.empty(arr1.size + arr2.size, dtype=arr1.dtype)\n",
        "    interleaved[0::2] = arr1\n",
        "    interleaved[1::2] = arr2\n",
        "    return interleaved"
      ],
      "metadata": {
        "id": "pDQG8rIT97DZ"
      },
      "execution_count": null,
      "outputs": []
    },
    {
      "cell_type": "code",
      "source": [
        "def audio_to_dfcols(audio_filepath: str, df_cols: np.ndarray) -> pd.DataFrame:\n",
        "  y, sr = librosa.load(audio_filepath)\n",
        "\n",
        "  # duration = librosa.get_duration(y = y, sr = sr)\n",
        "  chroma_stft_res = librosa.feature.chroma_stft(y = y, sr = sr)\n",
        "  rms_res = librosa.feature.rms(y = y)\n",
        "  spectral_centroid_res = librosa.feature.spectral_centroid(y = y, sr = sr)\n",
        "  spectral_bandwidth_res = librosa.feature.spectral_bandwidth(y = y, sr = sr)\n",
        "  spectral_rolloff_res = librosa.feature.spectral_rolloff(y = y, sr = sr)\n",
        "  zero_crossing_rate_res = librosa.feature.zero_crossing_rate(y = y)\n",
        "  harmonic_res = librosa.effects.harmonic(y)\n",
        "  percussive_res = librosa.effects.percussive(y)\n",
        "  tempo = librosa.beat.tempo(y = y, sr = sr)\n",
        "  mfccs = librosa.feature.mfcc(y = y, sr = sr, n_mfcc = 20)\n",
        "  mfccs_means = np.mean(mfccs, axis = 1)\n",
        "  mfccs_vars = np.var(mfccs, axis = 1)\n",
        "  result: np.ndarray = np.concatenate((\n",
        "    # np.array(duration),\n",
        "   np.mean(chroma_stft_res), np.var(chroma_stft_res),\n",
        "   np.mean(rms_res), np.var(rms_res),\n",
        "   np.mean(spectral_centroid_res), np.var(spectral_centroid_res),\n",
        "   np.mean(spectral_bandwidth_res), np.var(spectral_bandwidth_res),\n",
        "   np.mean(spectral_rolloff_res), np.var(spectral_rolloff_res),\n",
        "   np.mean(zero_crossing_rate_res), np.var(zero_crossing_rate_res),\n",
        "   np.mean(harmonic_res), np.var(harmonic_res),\n",
        "   np.mean(percussive_res), np.var(percussive_res),\n",
        "   np.array(tempo)), axis = None)\n",
        "  result = np.concatenate((result, interleave_arrays(mfccs_means, mfccs_vars)), axis = None)\n",
        "  # print(result)\n",
        "  # print(result.shape)\n",
        "  # print(df_cols.shape)\n",
        "  # return dict(zip(df_cols, result))\n",
        "  # return pd.DataFrame(dict(zip(df_cols, result)))\n",
        "  return pd.DataFrame(data = result.reshape(1, -1), columns = df_cols)"
      ],
      "metadata": {
        "id": "OiEyhPxA4GLG"
      },
      "execution_count": null,
      "outputs": []
    },
    {
      "cell_type": "code",
      "source": [
        "def addNewMusic(audio_data_route: str, csv_data_route: str, genre: str):\n",
        "    # Check if the CSV file exists\n",
        "    if os.path.isfile(csv_data_route):\n",
        "        # CSV file exists, read it\n",
        "        df = pd.read_csv(csv_data_route)\n",
        "    else:\n",
        "        # CSV file doesn't exist, create an empty DataFrame\n",
        "        df = pd.DataFrame(columns=['chroma_stft_mean', 'chroma_stft_var', 'rms_mean',\n",
        "       'rms_var', 'spectral_centroid_mean', 'spectral_centroid_var',\n",
        "       'spectral_bandwidth_mean', 'spectral_bandwidth_var', 'rolloff_mean',\n",
        "       'rolloff_var', 'zero_crossing_rate_mean', 'zero_crossing_rate_var',\n",
        "       'harmony_mean', 'harmony_var', 'perceptr_mean', 'perceptr_var', 'tempo',\n",
        "       'mfcc1_mean', 'mfcc1_var', 'mfcc2_mean', 'mfcc2_var', 'mfcc3_mean',\n",
        "       'mfcc3_var', 'mfcc4_mean', 'mfcc4_var', 'mfcc5_mean', 'mfcc5_var',\n",
        "       'mfcc6_mean', 'mfcc6_var', 'mfcc7_mean', 'mfcc7_var', 'mfcc8_mean',\n",
        "       'mfcc8_var', 'mfcc9_mean', 'mfcc9_var', 'mfcc10_mean', 'mfcc10_var',\n",
        "       'mfcc11_mean', 'mfcc11_var', 'mfcc12_mean', 'mfcc12_var', 'mfcc13_mean',\n",
        "       'mfcc13_var', 'mfcc14_mean', 'mfcc14_var', 'mfcc15_mean', 'mfcc15_var',\n",
        "       'mfcc16_mean', 'mfcc16_var', 'mfcc17_mean', 'mfcc17_var', 'mfcc18_mean',\n",
        "       'mfcc18_var', 'mfcc19_mean', 'mfcc19_var', 'mfcc20_mean', 'mfcc20_var', 'label'])\n",
        "\n",
        "    # Generate new row using audio_to_dfcols\n",
        "    audio_1_df = audio_to_dfcols(audio_data_route, df.columns[:-1].to_numpy())\n",
        "\n",
        "    # Add the genre as the last entry\n",
        "    audio_1_df['label'] = genre\n",
        "\n",
        "    # Append new row to DataFrame\n",
        "    df = pd.concat([df, audio_1_df], ignore_index=True)\n",
        "\n",
        "    # Write DataFrame back to CSV file\n",
        "    df.to_csv(csv_data_route, index=False)"
      ],
      "metadata": {
        "id": "cW0_NfWLXFGt"
      },
      "execution_count": null,
      "outputs": []
    },
    {
      "cell_type": "code",
      "source": [
        "csv_data_route = 'feature.csv'\n",
        "genre = 'rock'\n",
        "\n",
        "# Loop through each file from blues.00000.wav to blues.00099.wav\n",
        "for i in range(100):\n",
        "    # Generate the filename\n",
        "    audio_data_route = f'rock.{i:05d}.wav'\n",
        "\n",
        "    # Call the addNewMusic function\n",
        "    addNewMusic(audio_data_route, csv_data_route, genre)\n"
      ],
      "metadata": {
        "id": "5mDIeoIF4caC"
      },
      "execution_count": null,
      "outputs": []
    }
  ]
}